{
 "cells": [
  {
   "cell_type": "markdown",
   "id": "7a0a5c67",
   "metadata": {},
   "source": [
    "# Welcome to Ochem Bro v1!\n",
    "This is the first iteration of Ochem Bro. The main objectives are to import the datasets needed and train a LCS model to create rules that can correctly identy chemical compounds according to IUPAC convention.\n",
    "This project will (hopefully) expand beyond just the simple nomenclature objective to perhaps predict intrinsic chemical properties to a higher degree of accuracy, or even completing synthesis reactions.\n",
    "This model is planned to be integrated into a full web-app for real-time utilization on a drawing tool."
   ]
  },
  {
   "cell_type": "markdown",
   "id": "ab65483e-4d01-412f-acfe-eb2ad7b1966f",
   "metadata": {},
   "source": [
    "## Part 1: Prerequisites\n",
    "This is just all the set up"
   ]
  },
  {
   "cell_type": "code",
   "execution_count": 349,
   "id": "e15520ea",
   "metadata": {
    "scrolled": true,
    "tags": []
   },
   "outputs": [
    {
     "name": "stdout",
     "output_type": "stream",
     "text": [
      "Defaulting to user installation because normal site-packages is not writeable\n",
      "Requirement already satisfied: opencv-python in /Users/akalathra/.local/lib/python3.11/site-packages (4.11.0.86)\n",
      "Requirement already satisfied: numpy>=1.21.2 in /Applications/anaconda/anaconda3/lib/python3.11/site-packages (from opencv-python) (1.23.5)\n"
     ]
    }
   ],
   "source": [
    "!pip install opencv-python"
   ]
  },
  {
   "cell_type": "code",
   "execution_count": 3,
   "id": "d9672ed1",
   "metadata": {
    "scrolled": true,
    "tags": []
   },
   "outputs": [
    {
     "name": "stdout",
     "output_type": "stream",
     "text": [
      "Defaulting to user installation because normal site-packages is not writeable\n",
      "Requirement already satisfied: tensorflow in /Applications/anaconda/anaconda3/lib/python3.11/site-packages (2.12.0)\n",
      "Requirement already satisfied: absl-py>=1.0.0 in /Applications/anaconda/anaconda3/lib/python3.11/site-packages (from tensorflow) (1.4.0)\n",
      "Requirement already satisfied: astunparse>=1.6.0 in /Applications/anaconda/anaconda3/lib/python3.11/site-packages (from tensorflow) (1.6.3)\n",
      "Requirement already satisfied: flatbuffers>=2.0 in /Applications/anaconda/anaconda3/lib/python3.11/site-packages (from tensorflow) (2.0)\n",
      "Requirement already satisfied: gast<=0.4.0,>=0.2.1 in /Applications/anaconda/anaconda3/lib/python3.11/site-packages (from tensorflow) (0.4.0)\n",
      "Requirement already satisfied: google-pasta>=0.1.1 in /Applications/anaconda/anaconda3/lib/python3.11/site-packages (from tensorflow) (0.2.0)\n",
      "Requirement already satisfied: h5py>=2.9.0 in /Applications/anaconda/anaconda3/lib/python3.11/site-packages (from tensorflow) (3.7.0)\n",
      "Requirement already satisfied: jax>=0.3.15 in /Users/akalathra/.local/lib/python3.11/site-packages (from tensorflow) (0.4.30)\n",
      "Requirement already satisfied: libclang>=13.0.0 in /Users/akalathra/.local/lib/python3.11/site-packages (from tensorflow) (18.1.1)\n",
      "Requirement already satisfied: numpy<1.24,>=1.22 in /Applications/anaconda/anaconda3/lib/python3.11/site-packages (from tensorflow) (1.23.5)\n",
      "Requirement already satisfied: opt-einsum>=2.3.2 in /Applications/anaconda/anaconda3/lib/python3.11/site-packages (from tensorflow) (3.3.0)\n",
      "Requirement already satisfied: packaging in /Applications/anaconda/anaconda3/lib/python3.11/site-packages (from tensorflow) (23.0)\n",
      "Requirement already satisfied: protobuf!=4.21.0,!=4.21.1,!=4.21.2,!=4.21.3,!=4.21.4,!=4.21.5,<5.0.0dev,>=3.20.3 in /Applications/anaconda/anaconda3/lib/python3.11/site-packages (from tensorflow) (3.20.3)\n",
      "Requirement already satisfied: setuptools in /Applications/anaconda/anaconda3/lib/python3.11/site-packages (from tensorflow) (68.0.0)\n",
      "Requirement already satisfied: six>=1.12.0 in /Applications/anaconda/anaconda3/lib/python3.11/site-packages (from tensorflow) (1.16.0)\n",
      "Requirement already satisfied: termcolor>=1.1.0 in /Applications/anaconda/anaconda3/lib/python3.11/site-packages (from tensorflow) (2.1.0)\n",
      "Requirement already satisfied: typing-extensions>=3.6.6 in /Applications/anaconda/anaconda3/lib/python3.11/site-packages (from tensorflow) (4.7.1)\n",
      "Requirement already satisfied: wrapt<1.15,>=1.11.0 in /Applications/anaconda/anaconda3/lib/python3.11/site-packages (from tensorflow) (1.14.1)\n",
      "Requirement already satisfied: grpcio<2.0,>=1.24.3 in /Applications/anaconda/anaconda3/lib/python3.11/site-packages (from tensorflow) (1.48.2)\n",
      "Requirement already satisfied: tensorboard<2.13,>=2.12 in /Applications/anaconda/anaconda3/lib/python3.11/site-packages (from tensorflow) (2.12.1)\n",
      "Requirement already satisfied: tensorflow-estimator<2.13,>=2.12.0 in /Applications/anaconda/anaconda3/lib/python3.11/site-packages (from tensorflow) (2.12.0)\n",
      "Requirement already satisfied: keras<2.13,>=2.12.0 in /Applications/anaconda/anaconda3/lib/python3.11/site-packages (from tensorflow) (2.12.0)\n",
      "Requirement already satisfied: wheel<1.0,>=0.23.0 in /Applications/anaconda/anaconda3/lib/python3.11/site-packages (from astunparse>=1.6.0->tensorflow) (0.35.1)\n",
      "Requirement already satisfied: jaxlib<=0.4.30,>=0.4.27 in /Users/akalathra/.local/lib/python3.11/site-packages (from jax>=0.3.15->tensorflow) (0.4.30)\n",
      "Requirement already satisfied: ml-dtypes>=0.2.0 in /Users/akalathra/.local/lib/python3.11/site-packages (from jax>=0.3.15->tensorflow) (0.5.1)\n",
      "Requirement already satisfied: scipy>=1.9 in /Applications/anaconda/anaconda3/lib/python3.11/site-packages (from jax>=0.3.15->tensorflow) (1.10.1)\n",
      "Requirement already satisfied: google-auth<3,>=1.6.3 in /Applications/anaconda/anaconda3/lib/python3.11/site-packages (from tensorboard<2.13,>=2.12->tensorflow) (2.22.0)\n",
      "Requirement already satisfied: google-auth-oauthlib<1.1,>=0.5 in /Applications/anaconda/anaconda3/lib/python3.11/site-packages (from tensorboard<2.13,>=2.12->tensorflow) (0.5.2)\n",
      "Requirement already satisfied: markdown>=2.6.8 in /Applications/anaconda/anaconda3/lib/python3.11/site-packages (from tensorboard<2.13,>=2.12->tensorflow) (3.4.1)\n",
      "Requirement already satisfied: requests<3,>=2.21.0 in /Applications/anaconda/anaconda3/lib/python3.11/site-packages (from tensorboard<2.13,>=2.12->tensorflow) (2.31.0)\n",
      "Requirement already satisfied: tensorboard-data-server<0.8.0,>=0.7.0 in /Applications/anaconda/anaconda3/lib/python3.11/site-packages (from tensorboard<2.13,>=2.12->tensorflow) (0.7.0)\n",
      "Requirement already satisfied: tensorboard-plugin-wit>=1.6.0 in /Applications/anaconda/anaconda3/lib/python3.11/site-packages (from tensorboard<2.13,>=2.12->tensorflow) (1.8.1)\n",
      "Requirement already satisfied: werkzeug>=1.0.1 in /Applications/anaconda/anaconda3/lib/python3.11/site-packages (from tensorboard<2.13,>=2.12->tensorflow) (2.2.3)\n",
      "Requirement already satisfied: cachetools<6.0,>=2.0.0 in /Applications/anaconda/anaconda3/lib/python3.11/site-packages (from google-auth<3,>=1.6.3->tensorboard<2.13,>=2.12->tensorflow) (4.2.2)\n",
      "Requirement already satisfied: pyasn1-modules>=0.2.1 in /Applications/anaconda/anaconda3/lib/python3.11/site-packages (from google-auth<3,>=1.6.3->tensorboard<2.13,>=2.12->tensorflow) (0.2.8)\n",
      "Requirement already satisfied: rsa<5,>=3.1.4 in /Applications/anaconda/anaconda3/lib/python3.11/site-packages (from google-auth<3,>=1.6.3->tensorboard<2.13,>=2.12->tensorflow) (4.7.2)\n",
      "Requirement already satisfied: urllib3<2.0 in /Applications/anaconda/anaconda3/lib/python3.11/site-packages (from google-auth<3,>=1.6.3->tensorboard<2.13,>=2.12->tensorflow) (1.26.16)\n",
      "Requirement already satisfied: requests-oauthlib>=0.7.0 in /Applications/anaconda/anaconda3/lib/python3.11/site-packages (from google-auth-oauthlib<1.1,>=0.5->tensorboard<2.13,>=2.12->tensorflow) (1.3.0)\n",
      "Requirement already satisfied: charset-normalizer<4,>=2 in /Applications/anaconda/anaconda3/lib/python3.11/site-packages (from requests<3,>=2.21.0->tensorboard<2.13,>=2.12->tensorflow) (2.0.4)\n",
      "Requirement already satisfied: idna<4,>=2.5 in /Applications/anaconda/anaconda3/lib/python3.11/site-packages (from requests<3,>=2.21.0->tensorboard<2.13,>=2.12->tensorflow) (3.4)\n",
      "Requirement already satisfied: certifi>=2017.4.17 in /Applications/anaconda/anaconda3/lib/python3.11/site-packages (from requests<3,>=2.21.0->tensorboard<2.13,>=2.12->tensorflow) (2023.7.22)\n",
      "Requirement already satisfied: MarkupSafe>=2.1.1 in /Applications/anaconda/anaconda3/lib/python3.11/site-packages (from werkzeug>=1.0.1->tensorboard<2.13,>=2.12->tensorflow) (2.1.1)\n",
      "Requirement already satisfied: pyasn1<0.5.0,>=0.4.6 in /Applications/anaconda/anaconda3/lib/python3.11/site-packages (from pyasn1-modules>=0.2.1->google-auth<3,>=1.6.3->tensorboard<2.13,>=2.12->tensorflow) (0.4.8)\n",
      "Requirement already satisfied: oauthlib>=3.0.0 in /Applications/anaconda/anaconda3/lib/python3.11/site-packages (from requests-oauthlib>=0.7.0->google-auth-oauthlib<1.1,>=0.5->tensorboard<2.13,>=2.12->tensorflow) (3.2.2)\n"
     ]
    }
   ],
   "source": [
    "!pip install tensorflow"
   ]
  },
  {
   "cell_type": "code",
   "execution_count": 4,
   "id": "ae1e3e2f",
   "metadata": {
    "scrolled": true,
    "tags": []
   },
   "outputs": [
    {
     "name": "stdout",
     "output_type": "stream",
     "text": [
      "Defaulting to user installation because normal site-packages is not writeable\n",
      "Requirement already satisfied: numpy in /Applications/anaconda/anaconda3/lib/python3.11/site-packages (1.23.5)\n"
     ]
    }
   ],
   "source": [
    "!pip install numpy"
   ]
  },
  {
   "cell_type": "code",
   "execution_count": 199,
   "id": "2968c9cc-ce29-476b-a3c2-dce984a68315",
   "metadata": {
    "tags": []
   },
   "outputs": [
    {
     "name": "stdout",
     "output_type": "stream",
     "text": [
      "Defaulting to user installation because normal site-packages is not writeable\n",
      "Collecting rdkit\n",
      "  Obtaining dependency information for rdkit from https://files.pythonhosted.org/packages/72/64/f96f4a72052be7580ab825279cc71653a476c023c53828765be520db47e6/rdkit-2024.9.6-cp311-cp311-macosx_11_0_arm64.whl.metadata\n",
      "  Downloading rdkit-2024.9.6-cp311-cp311-macosx_11_0_arm64.whl.metadata (4.0 kB)\n",
      "Requirement already satisfied: numpy in /Applications/anaconda/anaconda3/lib/python3.11/site-packages (from rdkit) (1.23.5)\n",
      "Requirement already satisfied: Pillow in /Applications/anaconda/anaconda3/lib/python3.11/site-packages (from rdkit) (9.4.0)\n",
      "Downloading rdkit-2024.9.6-cp311-cp311-macosx_11_0_arm64.whl (27.7 MB)\n",
      "\u001b[2K   \u001b[90m━━━━━━━━━━━━━━━━━━━━━━━━━━━━━━━━━━━━━━━━\u001b[0m \u001b[32m27.7/27.7 MB\u001b[0m \u001b[31m87.8 MB/s\u001b[0m eta \u001b[36m0:00:00\u001b[0m:00:01\u001b[0m00:01\u001b[0m\n",
      "\u001b[?25hInstalling collected packages: rdkit\n",
      "Successfully installed rdkit-2024.9.6\n"
     ]
    }
   ],
   "source": [
    "!pip install rdkit"
   ]
  },
  {
   "cell_type": "code",
   "execution_count": 231,
   "id": "922a3685",
   "metadata": {
    "tags": []
   },
   "outputs": [],
   "source": [
    "#Whole lotta imports\n",
    "import numpy as np\n",
    "import pandas as pd\n",
    "import tensorflow as tf\n",
    "import cv2\n",
    "import os\n",
    "import json\n",
    "import re\n",
    "import matplotlib.pyplot as plt\n",
    "from tensorflow import keras\n",
    "from keras import datasets, layers, models\n",
    "from keras.utils import Sequence\n",
    "#getting some help from chatGPT on the padding for the labels\n",
    "from tensorflow.keras.preprocessing.sequence import pad_sequences\n",
    "#may use this later\n",
    "import rdkit\n",
    "from rdkit import Chem\n",
    "from rdkit.Chem import AllChem\n"
   ]
  },
  {
   "cell_type": "code",
   "execution_count": 6,
   "id": "62f384e8",
   "metadata": {
    "tags": []
   },
   "outputs": [
    {
     "name": "stdout",
     "output_type": "stream",
     "text": [
      "1.23.5\n"
     ]
    }
   ],
   "source": [
    "print(np.__version__)"
   ]
  },
  {
   "cell_type": "code",
   "execution_count": 7,
   "id": "cf247a2d",
   "metadata": {
    "tags": []
   },
   "outputs": [],
   "source": [
    "gpus = tf.config.experimental.list_physical_devices('GPU')\n",
    "for gpu in gpus:\n",
    "    tf.config.experimental.set_memory_growth(gpu, True)"
   ]
  },
  {
   "cell_type": "code",
   "execution_count": 8,
   "id": "140cd3f2-5a91-4d2a-be8a-f5a0b98e0324",
   "metadata": {
    "tags": []
   },
   "outputs": [
    {
     "data": {
      "text/plain": [
       "['PubChem Analytic Laboratory Method Images.zip',\n",
       " '.DS_Store',\n",
       " 'PubChem_Analytic_Laboratory_Methods_Summary.json',\n",
       " 'PubChem_Analytic_Laboratory_Method_Images']"
      ]
     },
     "execution_count": 8,
     "metadata": {},
     "output_type": "execute_result"
    }
   ],
   "source": [
    "#data_dir = r\"C:\\Users\\akalathra\\Desktop\\ML_OchemBro_Datasets\"\n",
    "data_dir = r\"/Users/akalathra/Desktop/ML_Stuff/Datasets\"\n",
    "os.listdir(data_dir)"
   ]
  },
  {
   "cell_type": "code",
   "execution_count": 45,
   "id": "bd3381c2",
   "metadata": {},
   "outputs": [
    {
     "name": "stdout",
     "output_type": "stream",
     "text": [
      "3987\n"
     ]
    }
   ],
   "source": [
    "#image directory time\n",
    "#images_dir_analytical = r\"C:\\Users\\akalathra\\Desktop\\ML_OchemBro_Datasets\\PubChem_Analytic_Laboratory_Method_Images\" \n",
    "#images_dir_clinical = r\"C:\\Users\\akalathra\\Desktop\\ML_OchemBro_Datasets\\PubChem_Clinical_Lab_Method_Images\"\n",
    "images_dir_analytical = r\"/Users/akalathra/Desktop/ML_Stuff/Datasets/PubChem_Analytic_Laboratory_Method_Images\" \n",
    "#images_dir_clinical = r\"/Users/akalathra/Desktop/ML_Stuff/Datasets/PubChem_Clinical_Lab_Method_Images\"\n",
    "lstDir = os.listdir(images_dir_analytical)\n",
    "print(len(lstDir))"
   ]
  },
  {
   "cell_type": "markdown",
   "id": "04649cb5-e039-4ffd-81ef-9b6c548dfa45",
   "metadata": {},
   "source": [
    "## Part 2: Work-up FUNctions\n",
    "We will create the needed functions.    \n",
    "This includes conversion dictionaries (when needed), and functions to convert."
   ]
  },
  {
   "cell_type": "code",
   "execution_count": 51,
   "id": "93349f7c-a2d0-4abc-a2bb-24d165282a2b",
   "metadata": {
    "tags": []
   },
   "outputs": [
    {
     "name": "stdout",
     "output_type": "stream",
     "text": [
      "3987\n"
     ]
    }
   ],
   "source": [
    "# cidIUPACList = [][]\n",
    "'''\n",
    "CIDtoIUPAC = {}\n",
    "analyticSum = r\"/Users/akalathra/Desktop/ML_Stuff/Datasets/PubChem_Analytic_Laboratory_Methods_Summary.json\"\n",
    "with open(analyticSum, \"r\",encoding=\"utf-8\") as file:\n",
    "    data = json.load(file)\n",
    "    \n",
    "    for index, entry in enumerate(data):\n",
    "        try:\n",
    "            iupacValue = data[index]['iupacname']\n",
    "        except:\n",
    "            print(data[index]['cid'])\n",
    "            print(data[index]['cmpdname'])\n",
    "            iupacValue = data[index]['cmpdname']\n",
    "            continue\n",
    "        cidValue = data[index]['cid']\n",
    "        CIDtoIUPAC[cidValue] = iupacValue\n",
    "'''\n",
    "        \n",
    "#how about SMILES first?\n",
    "CIDtoSMILESdict = {}\n",
    "analyticSum = r\"/Users/akalathra/Desktop/ML_Stuff/Datasets/PubChem_Analytic_Laboratory_Methods_Summary.json\"\n",
    "with open(analyticSum, \"r\",encoding=\"utf-8\") as file:\n",
    "    data = json.load(file)\n",
    "    \n",
    "    for index, entry in enumerate(data):\n",
    "        try:\n",
    "            smilesValue = data[index]['smiles']\n",
    "        except:\n",
    "            print(data[index]['cid'])\n",
    "            print(data[index]['cmpdname'])\n",
    "            #smilesValue = data[index]['cmpdname']\n",
    "            continue\n",
    "        cidValue = data[index]['cid']\n",
    "        CIDtoSMILESdict[cidValue] = smilesValue\n",
    "# Now that the JSON has been parsed, we have ignored any CID value that does not have a corresponding\n",
    "# IUPAC name\n",
    "print(len(CIDtoSMILESdict))"
   ]
  },
  {
   "cell_type": "code",
   "execution_count": 61,
   "id": "9f3ec092-8add-43fa-98af-97840df27b64",
   "metadata": {
    "tags": []
   },
   "outputs": [],
   "source": [
    "def getFileName(file_path):\n",
    "    filename = tf.strings.split(file_path, os.sep)[-1]\n",
    "    label = tf.strings.regex_replace(filename, r'\\.jpg$', '')  # Remove file extension if needed - \"No. I don't think I will.\" - Captain America , Steve Rogers\n",
    "    return label\n",
    "\n",
    "def getCIDfromFeatureName(feature): #used to be named labCIDtoIUPAC\n",
    "    oldLabel = getFileName(feature).numpy().decode('utf-8')\n",
    "    #print(oldLabel)\n",
    "    # Extract CID number using regex\n",
    "    #we're gonna use the dictionary from b4 to map the CID in \n",
    "    # the oldLabel to the IUPAC that will be the new label\n",
    "    nameSplit = []\n",
    "    nameSplit = re.split(r\"[_.]\", oldLabel)\n",
    "    #print(nameSplit)\n",
    "    #print(nameSplit[1])\n",
    "    #return CIDtoIUPAC[nameSplit[1]]\n",
    "    return nameSplit[1]\n",
    "\n",
    "#print(getCIDfromFeatureName(\"/Users/akalathra/Desktop/ML_Stuff/Datasets/PubChem_Analytic_Laboratory_Method_Images/CID_6113.png\"))"
   ]
  },
  {
   "cell_type": "markdown",
   "id": "46601cc4-20dc-42d2-bf15-705ec6c540f6",
   "metadata": {},
   "source": [
    "## Part 3: Making a Data Generator\n",
    "This part is a little tricky.   \n",
    "I will need to make a custom data generator. This will need to have its own dataset. The dataset has to be composed of features and labels. In this sense, the features will be the chemical images. The labels are <u>not</u> going to be the file name. Instead, I will have to grab the CID from the image title and get the associated SMILES notation. The SMILES notation will be the label.    \n",
    "In esseance, I am going to make a dataset that links the CID-labelled image with its associated SMILES label, and then put that into a data generator.\n",
    "I'm using the general structure of code as presented here: <a href = \"https://medium.com/@anuj_shah/creating-custom-data-generator-for-training-deep-learning-models-part-2-be9ad08f3f0e\">Creating custom data generator for training Deep Learning Models-Part 2</a>   \n",
    "Now the problem is, the SMILES string can technically not be the label. Instead, the label must be numbers, so I have to convert the specific elements seen comonly in SMILES notation to a numerical array. I will use a dictionary for this process.    \n",
    "However, another problem arises: the strings all have to be the same length. This is an issue as not all chemical structures are the same, meaning that not all SMILES notations will be the same length. To beat this, I most likely will have to use a padding and will have to keep strings below a certain limit."
   ]
  },
  {
   "cell_type": "code",
   "execution_count": 157,
   "id": "9be7dd0d-b832-4a72-b723-14b927539bab",
   "metadata": {
    "collapsed": true,
    "jupyter": {
     "outputs_hidden": true
    },
    "tags": []
   },
   "outputs": [
    {
     "data": {
      "text/plain": [
       "\"\\nSMILEStoInt = {\\n    '[': 0,\\n    'S': 1,\\n    'P': 2,\\n    '2': 3,\\n    '#': 4,\\n    'C': 5,\\n    '+': 6,\\n    'N': 7,\\n    '!': 8,\\n    'F': 9,\\n    'H': 10,\\n    '3': 11,\\n    '4': 12,\\n    '\\\\': 13,\\n    ')': 14,\\n    'E': 15,\\n    '/': 16,\\n    'l': 17,\\n    'I': 18,\\n    'O': 19,\\n    '(': 20,\\n    '=': 21,\\n    '1': 22,\\n    ']': 23,\\n}\\n\""
      ]
     },
     "execution_count": 157,
     "metadata": {},
     "output_type": "execute_result"
    }
   ],
   "source": [
    "#lets make a dictonary of all the SMILES elements - copied from https://github.com/Abdulk084/Smiles2vec/blob/master/smiles2vec.ipynb\n",
    "\"\"\"\n",
    "SMILEStoInt = {\n",
    "    '[': 0,\n",
    "    'S': 1,\n",
    "    'P': 2,\n",
    "    '2': 3,\n",
    "    '#': 4,\n",
    "    'C': 5,\n",
    "    '+': 6,\n",
    "    'N': 7,\n",
    "    '!': 8,\n",
    "    'F': 9,\n",
    "    'H': 10,\n",
    "    '3': 11,\n",
    "    '4': 12,\n",
    "    '\\\\': 13,\n",
    "    ')': 14,\n",
    "    'E': 15,\n",
    "    '/': 16,\n",
    "    'l': 17,\n",
    "    'I': 18,\n",
    "    'O': 19,\n",
    "    '(': 20,\n",
    "    '=': 21,\n",
    "    '1': 22,\n",
    "    ']': 23,\n",
    "}\n",
    "\"\"\"\n",
    "#jk im just gonna convert it to it's ASCII code lol"
   ]
  },
  {
   "cell_type": "code",
   "execution_count": 310,
   "id": "2b465493-121d-41a8-80f7-90880719fa42",
   "metadata": {
    "tags": []
   },
   "outputs": [],
   "source": [
    "#lets make a dataframe, one for the train and one for test; both will be a similar structure\n",
    "train_df = pd.DataFrame(columns = ['FileName', 'CID', 'SMILES', 'Label'])\n",
    "test_df = pd.DataFrame(columns = ['FileName', 'CID', 'SMILES', 'Label'])\n",
    "trainSplit = 0.8\n",
    "testSplit = 0.2"
   ]
  },
  {
   "cell_type": "code",
   "execution_count": 313,
   "id": "5ab2de9e-49c0-438f-8456-df3918d6a149",
   "metadata": {
    "tags": []
   },
   "outputs": [
    {
     "name": "stdout",
     "output_type": "stream",
     "text": [
      "3190  amount of images in the training dataframe\n",
      "3987 total images\n",
      "Shape of the dataframe: (3190, 4)\n"
     ]
    }
   ],
   "source": [
    "i = 0\n",
    "trainImgAmount = round(trainSplit * len(lstDir))\n",
    "print(trainImgAmount, \" amount of images in the training dataframe\")\n",
    "for img in lstDir:\n",
    "    #filePath = os.path.join(images_dir_analytical, img)\n",
    "    cid = getCIDfromFeatureName(img)\n",
    "    #print(type(cid))\n",
    "    smilesLab = CIDtoSMILESdict[cid]\n",
    "    #print(smilesLab)\n",
    "    # Convert SMILES string to a sequence of integers\n",
    "    intLab = [(ord(char)-31) for char in smilesLab]\n",
    "    i += 1\n",
    "    newDF = pd.DataFrame([{'FileName': img, 'CID': cid, 'SMILES': smilesLab,'Label': intLab}])\n",
    "    if(i<=trainImgAmount): #no real shuffle, just kinda trusting that the lstDir is fine)\n",
    "        train_df = pd.concat([train_df,newDF])\n",
    "    else:\n",
    "        test_df = pd.concat([test_df,newDF])\n",
    "print(i,  \"total images\")\n",
    "print(\"Shape of the dataframe:\", train_df.shape)"
   ]
  },
  {
   "cell_type": "code",
   "execution_count": 314,
   "id": "5fb55f58-347a-4507-ba81-d062357b1297",
   "metadata": {
    "tags": []
   },
   "outputs": [
    {
     "name": "stdout",
     "output_type": "stream",
     "text": [
      "797   3190\n",
      "           FileName       CID  \\\n",
      "0     CID_72322.png     72322   \n",
      "0     CID_20965.png     20965   \n",
      "0     CID_10212.png     10212   \n",
      "0  CID_44559416.png  44559416   \n",
      "0      CID_3440.png      3440   \n",
      "\n",
      "                                              SMILES  \\\n",
      "0  C1C[N+]2=C(C=C3C=CC4=C(C3=C2)OCO4)C5=CC6=C(C=C...   \n",
      "0                CCOP(=S)(OCC)OC1=CC(=C(C=C1Cl)Br)Cl   \n",
      "0            CC(=CCOC1=C2C(=CC3=C1OC=C3)C=CC(=O)O2)C   \n",
      "0  CC(=O)OC(C)(C)/C=C/C(=O)[C@@](C)([C@H]1[C@@H](...   \n",
      "0     C1=COC(=C1)CNC2=CC(=C(C=C2C(=O)O)S(=O)(=O)N)Cl   \n",
      "\n",
      "                                               Label  \n",
      "0  [36, 18, 36, 60, 47, 12, 62, 19, 30, 36, 9, 36...  \n",
      "0  [36, 36, 48, 49, 9, 30, 52, 10, 9, 48, 36, 36,...  \n",
      "0  [36, 36, 9, 30, 36, 36, 48, 36, 18, 30, 36, 19...  \n",
      "0  [36, 36, 9, 30, 48, 10, 48, 36, 9, 36, 10, 9, ...  \n",
      "0  [36, 18, 30, 36, 48, 36, 9, 30, 36, 18, 10, 36...  \n"
     ]
    }
   ],
   "source": [
    "print(len(test_df), \" \", len(train_df))\n",
    "print(train_df.sample(5))"
   ]
  },
  {
   "cell_type": "code",
   "execution_count": 315,
   "id": "d6caedb4-d548-47fa-9c4c-9206a4bf2bfe",
   "metadata": {
    "tags": []
   },
   "outputs": [],
   "source": [
    "\n",
    "#got help from ChatGPT for the padding, supposedly needed\n",
    "#the keras docs say that the padding can be taken out later by 3 methods: https://www.tensorflow.org/guide/keras/understanding_masking_and_padding\n",
    "# Example: Padding sequences to a fixed length (e.g., 100 characters for each SMILES string)\n",
    "intLabPadTrain = pad_sequences(train_df['Label'], maxlen=250, padding='post', truncating='post')\n",
    "intLabPadTest = pad_sequences(test_df['Label'], maxlen=250, padding='post', truncating='post')\n",
    "\n"
   ]
  },
  {
   "cell_type": "code",
   "execution_count": 316,
   "id": "128db67f-d3da-462c-9fca-b92e53597918",
   "metadata": {
    "tags": []
   },
   "outputs": [],
   "source": [
    "#adding these paddings as another column in the dataframe\n",
    "train_df['padded_labels'] = intLabPadTrain.tolist()\n",
    "test_df['padded_labels'] = intLabPadTest.tolist()"
   ]
  },
  {
   "cell_type": "code",
   "execution_count": 323,
   "id": "0460e165-b3a4-4ac2-b9e8-dd08b4f1a976",
   "metadata": {
    "tags": []
   },
   "outputs": [
    {
     "name": "stdout",
     "output_type": "stream",
     "text": [
      "797   3190\n",
      "          FileName      CID  \\\n",
      "0   CID_445154.png   445154   \n",
      "0    CID_15008.png    15008   \n",
      "0     CID_5556.png     5556   \n",
      "0  CID_3566770.png  3566770   \n",
      "0    CID_16945.png    16945   \n",
      "\n",
      "                                              SMILES  \\\n",
      "0               C1=CC(=CC=C1/C=C/C2=CC(=CC(=C2)O)O)O   \n",
      "0                         CCCC(=O)C1=CC(=C(C=C1O)O)O   \n",
      "0   CC1=NN=C2N1C3=C(C=C(C=C3)Cl)C(=NC2)C4=CC=CC=C4Cl   \n",
      "0                                     CN(C)C(=S)[S-]   \n",
      "0  C12(C3(C4(C5(C3(C(C1(C5(C2(C4(Cl)Cl)Cl)Cl)Cl)(...   \n",
      "\n",
      "                                               Label  \\\n",
      "0  [36, 18, 30, 36, 36, 9, 30, 36, 36, 30, 36, 18...   \n",
      "0  [36, 36, 36, 36, 9, 30, 48, 10, 36, 18, 30, 36...   \n",
      "0  [36, 36, 18, 30, 47, 47, 30, 36, 19, 47, 18, 3...   \n",
      "0  [36, 47, 9, 36, 10, 36, 9, 30, 52, 10, 60, 52,...   \n",
      "0  [36, 18, 19, 9, 36, 20, 9, 36, 21, 9, 36, 22, ...   \n",
      "\n",
      "                                       padded_labels  \n",
      "0  [36, 18, 30, 36, 36, 9, 30, 36, 36, 30, 36, 18...  \n",
      "0  [36, 36, 36, 36, 9, 30, 48, 10, 36, 18, 30, 36...  \n",
      "0  [36, 36, 18, 30, 47, 47, 30, 36, 19, 47, 18, 3...  \n",
      "0  [36, 47, 9, 36, 10, 36, 9, 30, 52, 10, 60, 52,...  \n",
      "0  [36, 18, 19, 9, 36, 20, 9, 36, 21, 9, 36, 22, ...  \n"
     ]
    }
   ],
   "source": [
    "print(len(test_df), \" \", len(train_df))\n",
    "print(train_df.sample(5))"
   ]
  },
  {
   "cell_type": "code",
   "execution_count": 356,
   "id": "76a47904-ff4d-479f-9e85-dac65577fd5c",
   "metadata": {
    "tags": []
   },
   "outputs": [
    {
     "name": "stdout",
     "output_type": "stream",
     "text": [
      "CCCCCCCCCCCCCCCCCCOOC[C@H]C[C@@H][C@H]COOOO\n"
     ]
    }
   ],
   "source": [
    "def testingASCIItoSMILES(ASCIIstringList):\n",
    "    tot_name = \"\"\n",
    "    for i in ASCIIstringList:\n",
    "        charVal = chr(i + 31)\n",
    "        if (i < 32) or (i > 126):\n",
    "            continue\n",
    "        else:\n",
    "            tot_name += charVal\n",
    "            #print(i, \" = \", charVal)\n",
    "    #print(\"The full SMILES string: \", tot_name)\n",
    "    return tot_name\n",
    "    \n",
    "test_ascii = (train_df.iloc[4,4]) #feel free to change the first number after the iloc to test different chemicals (range is 0 - 3189)\n",
    "print(testingASCIItoSMILES(test_ascii))"
   ]
  },
  {
   "cell_type": "code",
   "execution_count": 357,
   "id": "36ccb3dc-5bef-454c-b32f-5e6640c89c9a",
   "metadata": {
    "tags": []
   },
   "outputs": [],
   "source": [
    "#creating samples as an array from the dataframe\n",
    "sampleTrain = train_df[['FileName', 'padded_labels']].to_numpy()\n",
    "sampleTest = test_df[['FileName', 'padded_labels']].to_numpy()"
   ]
  },
  {
   "cell_type": "code",
   "execution_count": 358,
   "id": "822dae13-e191-4eaa-a0e7-53c7c660a4a8",
   "metadata": {
    "collapsed": true,
    "jupyter": {
     "outputs_hidden": true
    },
    "tags": []
   },
   "outputs": [
    {
     "name": "stdout",
     "output_type": "stream",
     "text": [
      "[['CID_11776.png'\n",
      "  list([36, 18, 30, 36, 36, 30, 36, 9, 36, 30, 36, 18, 10, 49, 9, 36, 19, 30, 36, 36, 30, 36, 36, 30, 36, 19, 10, 36, 20, 30, 36, 36, 30, 36, 36, 30, 36, 20, 0, 0, 0, 0, 0, 0, 0, 0, 0, 0, 0, 0, 0, 0, 0, 0, 0, 0, 0, 0, 0, 0, 0, 0, 0, 0, 0, 0, 0, 0, 0, 0, 0, 0, 0, 0, 0, 0, 0, 0, 0, 0, 0, 0, 0, 0, 0, 0, 0, 0, 0, 0, 0, 0, 0, 0, 0, 0, 0, 0, 0, 0, 0, 0, 0, 0, 0, 0, 0, 0, 0, 0, 0, 0, 0, 0, 0, 0, 0, 0, 0, 0, 0, 0, 0, 0, 0, 0, 0, 0, 0, 0, 0, 0, 0, 0, 0, 0, 0, 0, 0, 0, 0, 0, 0, 0, 0, 0, 0, 0, 0, 0, 0, 0, 0, 0, 0, 0, 0, 0, 0, 0, 0, 0, 0, 0, 0, 0, 0, 0, 0, 0, 0, 0, 0, 0, 0, 0, 0, 0, 0, 0, 0, 0, 0, 0, 0, 0, 0, 0, 0, 0, 0, 0, 0, 0, 0, 0, 0, 0, 0, 0, 0, 0, 0, 0, 0, 0, 0, 0, 0, 0, 0, 0, 0, 0, 0, 0, 0, 0, 0, 0, 0, 0, 0, 0, 0, 0, 0, 0, 0, 0, 0, 0, 0, 0, 0, 0, 0, 0, 0, 0, 0, 0, 0, 0, 0, 0, 0, 0, 0, 0])]\n",
      " ['CID_5533.png'\n",
      "  list([36, 18, 36, 47, 9, 36, 36, 47, 18, 36, 36, 36, 47, 19, 36, 9, 30, 48, 10, 47, 20, 36, 30, 36, 36, 30, 36, 36, 20, 30, 47, 19, 10, 36, 21, 30, 36, 36, 9, 30, 36, 36, 30, 36, 21, 10, 36, 77, 0, 0, 0, 0, 0, 0, 0, 0, 0, 0, 0, 0, 0, 0, 0, 0, 0, 0, 0, 0, 0, 0, 0, 0, 0, 0, 0, 0, 0, 0, 0, 0, 0, 0, 0, 0, 0, 0, 0, 0, 0, 0, 0, 0, 0, 0, 0, 0, 0, 0, 0, 0, 0, 0, 0, 0, 0, 0, 0, 0, 0, 0, 0, 0, 0, 0, 0, 0, 0, 0, 0, 0, 0, 0, 0, 0, 0, 0, 0, 0, 0, 0, 0, 0, 0, 0, 0, 0, 0, 0, 0, 0, 0, 0, 0, 0, 0, 0, 0, 0, 0, 0, 0, 0, 0, 0, 0, 0, 0, 0, 0, 0, 0, 0, 0, 0, 0, 0, 0, 0, 0, 0, 0, 0, 0, 0, 0, 0, 0, 0, 0, 0, 0, 0, 0, 0, 0, 0, 0, 0, 0, 0, 0, 0, 0, 0, 0, 0, 0, 0, 0, 0, 0, 0, 0, 0, 0, 0, 0, 0, 0, 0, 0, 0, 0, 0, 0, 0, 0, 0, 0, 0, 0, 0, 0, 0, 0, 0, 0, 0, 0, 0, 0, 0, 0, 0, 0, 0, 0, 0, 0, 0, 0, 0, 0, 0, 0, 0, 0, 0, 0, 0])]\n",
      " ['CID_246728.png'\n",
      "  list([36, 36, 36, 36, 36, 36, 9, 30, 48, 10, 36, 36, 0, 0, 0, 0, 0, 0, 0, 0, 0, 0, 0, 0, 0, 0, 0, 0, 0, 0, 0, 0, 0, 0, 0, 0, 0, 0, 0, 0, 0, 0, 0, 0, 0, 0, 0, 0, 0, 0, 0, 0, 0, 0, 0, 0, 0, 0, 0, 0, 0, 0, 0, 0, 0, 0, 0, 0, 0, 0, 0, 0, 0, 0, 0, 0, 0, 0, 0, 0, 0, 0, 0, 0, 0, 0, 0, 0, 0, 0, 0, 0, 0, 0, 0, 0, 0, 0, 0, 0, 0, 0, 0, 0, 0, 0, 0, 0, 0, 0, 0, 0, 0, 0, 0, 0, 0, 0, 0, 0, 0, 0, 0, 0, 0, 0, 0, 0, 0, 0, 0, 0, 0, 0, 0, 0, 0, 0, 0, 0, 0, 0, 0, 0, 0, 0, 0, 0, 0, 0, 0, 0, 0, 0, 0, 0, 0, 0, 0, 0, 0, 0, 0, 0, 0, 0, 0, 0, 0, 0, 0, 0, 0, 0, 0, 0, 0, 0, 0, 0, 0, 0, 0, 0, 0, 0, 0, 0, 0, 0, 0, 0, 0, 0, 0, 0, 0, 0, 0, 0, 0, 0, 0, 0, 0, 0, 0, 0, 0, 0, 0, 0, 0, 0, 0, 0, 0, 0, 0, 0, 0, 0, 0, 0, 0, 0, 0, 0, 0, 0, 0, 0, 0, 0, 0, 0, 0, 0, 0, 0, 0, 0, 0, 0, 0, 0, 0, 0, 0, 0])]\n",
      " ['CID_4490623.png'\n",
      "  list([36, 9, 36, 18, 9, 36, 19, 36, 20, 36, 9, 47, 30, 36, 9, 47, 36, 20, 21, 36, 9, 36, 18, 48, 36, 9, 36, 21, 48, 10, 9, 48, 19, 10, 48, 10, 48, 10, 47, 10, 48, 10, 48, 10, 48, 0, 0, 0, 0, 0, 0, 0, 0, 0, 0, 0, 0, 0, 0, 0, 0, 0, 0, 0, 0, 0, 0, 0, 0, 0, 0, 0, 0, 0, 0, 0, 0, 0, 0, 0, 0, 0, 0, 0, 0, 0, 0, 0, 0, 0, 0, 0, 0, 0, 0, 0, 0, 0, 0, 0, 0, 0, 0, 0, 0, 0, 0, 0, 0, 0, 0, 0, 0, 0, 0, 0, 0, 0, 0, 0, 0, 0, 0, 0, 0, 0, 0, 0, 0, 0, 0, 0, 0, 0, 0, 0, 0, 0, 0, 0, 0, 0, 0, 0, 0, 0, 0, 0, 0, 0, 0, 0, 0, 0, 0, 0, 0, 0, 0, 0, 0, 0, 0, 0, 0, 0, 0, 0, 0, 0, 0, 0, 0, 0, 0, 0, 0, 0, 0, 0, 0, 0, 0, 0, 0, 0, 0, 0, 0, 0, 0, 0, 0, 0, 0, 0, 0, 0, 0, 0, 0, 0, 0, 0, 0, 0, 0, 0, 0, 0, 0, 0, 0, 0, 0, 0, 0, 0, 0, 0, 0, 0, 0, 0, 0, 0, 0, 0, 0, 0, 0, 0, 0, 0, 0, 0, 0, 0, 0, 0, 0, 0, 0, 0, 0, 0, 0, 0, 0, 0])]\n",
      " ['CID_23725022.png'\n",
      "  list([36, 36, 36, 36, 36, 36, 36, 36, 36, 36, 36, 36, 36, 36, 36, 36, 36, 36, 9, 30, 48, 10, 48, 36, 60, 36, 33, 41, 62, 9, 36, 18, 60, 36, 33, 33, 41, 62, 9, 60, 36, 33, 41, 62, 9, 36, 48, 18, 10, 48, 10, 48, 10, 48, 0, 0, 0, 0, 0, 0, 0, 0, 0, 0, 0, 0, 0, 0, 0, 0, 0, 0, 0, 0, 0, 0, 0, 0, 0, 0, 0, 0, 0, 0, 0, 0, 0, 0, 0, 0, 0, 0, 0, 0, 0, 0, 0, 0, 0, 0, 0, 0, 0, 0, 0, 0, 0, 0, 0, 0, 0, 0, 0, 0, 0, 0, 0, 0, 0, 0, 0, 0, 0, 0, 0, 0, 0, 0, 0, 0, 0, 0, 0, 0, 0, 0, 0, 0, 0, 0, 0, 0, 0, 0, 0, 0, 0, 0, 0, 0, 0, 0, 0, 0, 0, 0, 0, 0, 0, 0, 0, 0, 0, 0, 0, 0, 0, 0, 0, 0, 0, 0, 0, 0, 0, 0, 0, 0, 0, 0, 0, 0, 0, 0, 0, 0, 0, 0, 0, 0, 0, 0, 0, 0, 0, 0, 0, 0, 0, 0, 0, 0, 0, 0, 0, 0, 0, 0, 0, 0, 0, 0, 0, 0, 0, 0, 0, 0, 0, 0, 0, 0, 0, 0, 0, 0, 0, 0, 0, 0, 0, 0, 0, 0, 0, 0, 0, 0, 0, 0, 0, 0, 0, 0, 0, 0, 0, 0, 0, 0])]]\n"
     ]
    }
   ],
   "source": [
    "print(sampleTrain[0:5])"
   ]
  },
  {
   "cell_type": "code",
   "execution_count": 359,
   "id": "08e049f1-3b99-48e6-a8d5-2e74cb85ed82",
   "metadata": {
    "tags": []
   },
   "outputs": [
    {
     "name": "stdout",
     "output_type": "stream",
     "text": [
      "CID_11776.png\n"
     ]
    }
   ],
   "source": [
    "#print(cv2.imread(os.path.join(images_dir_analytical,\"CID_6113.png\")))\n",
    "print(sampleTrain[0][0])"
   ]
  },
  {
   "cell_type": "code",
   "execution_count": 360,
   "id": "471feb37-231e-4731-be40-beb8de6132ca",
   "metadata": {
    "tags": []
   },
   "outputs": [],
   "source": [
    "#now to make a data denerator off of the dataframes\n",
    "def generator(sampleArr, batchSize=32):\n",
    "    num_samples = len(sampleArr)\n",
    "    while True: #I am inevitable\n",
    "        for offset in range(0, num_samples, batchSize):\n",
    "            #reminder for myself on how for loops work\n",
    "            #starts at 0, ends at num_samples, jumps the distance of batchSize\n",
    "            batch_samples = sampleArr[offset:offset+batchSize] #this goes in the array 32 rows starting from the offset (32 bc its the batchSize)\n",
    "            #print(offset + batchSize)\n",
    "            X_train = []\n",
    "            Y_train = []\n",
    "            \n",
    "            for singleSample in batch_samples:\n",
    "                imgName = singleSample[0]\n",
    "                #print(imgName)\n",
    "                label = singleSample[1]\n",
    "                imgArr = cv2.imread(os.path.join(images_dir_analytical,imgName))\n",
    "                #print(imgArr.shape)\n",
    "                #I could care less about resizing the images, they're all the same size\n",
    "                X_train.append(imgArr)\n",
    "                Y_train.append(label)\n",
    "            \n",
    "            X_train = np.array(X_train)\n",
    "            Y_train = np.array(Y_train)\n",
    "            #yield is literally the backbone of a generator, look it up\n",
    "            yield X_train, Y_train\n",
    "            \n",
    "practiceDataGen = generator(sampleTrain)"
   ]
  },
  {
   "cell_type": "code",
   "execution_count": 362,
   "id": "bc3ebd99-e38d-4601-aa06-f0c8c3a805d8",
   "metadata": {
    "tags": []
   },
   "outputs": [
    {
     "name": "stdout",
     "output_type": "stream",
     "text": [
      "(32, 300, 300, 3)\n"
     ]
    },
    {
     "data": {
      "image/png": "[encoded data removed]",
      "text/plain": [
       "<Figure size 1200x1200 with 4 Axes>"
      ]
     },
     "metadata": {},
     "output_type": "display_data"
    }
   ],
   "source": [
    "x,y = next(practiceDataGen)\n",
    "print (x.shape)\n",
    "#output: (8, 224, 224, 3)\n",
    "#print (y)\n",
    "#output: [0 1 1 4 3 1 4 2]\n",
    "\n",
    "fig = plt.figure(1,figsize=(12,12))\n",
    "for i in range(4):\n",
    "  plt.subplot(2,2,i+1)\n",
    "  plt.tight_layout()\n",
    "  x[i] = x[i][:,:,::-1]\n",
    "  plt.imshow(x[i], interpolation='none')\n",
    "  plt.title(\"class_label: {}\".format(testingASCIItoSMILES(y[i])))\n",
    "  plt.xticks([])\n",
    "  plt.yticks([])"
   ]
  },
  {
   "cell_type": "markdown",
   "id": "9d3271bb-34a4-4a65-b305-6ffa8c2fd8a1",
   "metadata": {},
   "source": [
    "## Part 4: The CNN part?\n",
    "Idk as of now (4/4/25) if this is the part for making the layers for the CNN.   \n",
    "To make the layers, I'm following a video to get my general bearings: <a href=\"https://www.youtube.com/watch?v=fTw3K8D5xDs\">How to Design a Convolutional Neural Network</a>   \n",
    "The images are 300 x 300 pixels. "
   ]
  },
  {
   "cell_type": "code",
   "execution_count": 333,
   "id": "294ce20d-25ee-4e6b-b1cb-dc1bb8b8ffb0",
   "metadata": {
    "tags": []
   },
   "outputs": [],
   "source": [
    "#making the actual data generators\n",
    "trainGen = generator(sampleTrain)\n",
    "testGen = generator(sampleTest)"
   ]
  },
  {
   "cell_type": "markdown",
   "id": "038cf46f-940f-4847-827f-63c94791baa4",
   "metadata": {},
   "source": [
    "This is what this website had, gonna follow the general layout and modify the parameters as needed: <a href=\"https://www.mathworks.com/help/deeplearning/ug/train-a-convolutional-neural-network-for-regression.html\"> Train a Convolutional Neural Network for Regression</a>\n"
   ]
  },
  {
   "cell_type": "code",
   "execution_count": 366,
   "id": "6d465c15-4e35-4a9b-9e76-3b7ee499ceb6",
   "metadata": {},
   "outputs": [
    {
     "name": "stdout",
     "output_type": "stream",
     "text": [
      "Model: \"sequential_32\"\n",
      "_________________________________________________________________\n",
      " Layer (type)                Output Shape              Param #   \n",
      "=================================================================\n",
      " conv2d_32 (Conv2D)          (None, 298, 298, 8)       224       \n",
      "                                                                 \n",
      " batch_normalization_32 (Bat  (None, 298, 298, 8)      32        \n",
      " chNormalization)                                                \n",
      "                                                                 \n",
      " average_pooling2d_16 (Avera  (None, 149, 149, 8)      0         \n",
      " gePooling2D)                                                    \n",
      "                                                                 \n",
      " conv2d_33 (Conv2D)          (None, 147, 147, 16)      1168      \n",
      "                                                                 \n",
      " batch_normalization_33 (Bat  (None, 147, 147, 16)     64        \n",
      " chNormalization)                                                \n",
      "                                                                 \n",
      " average_pooling2d_17 (Avera  (None, 73, 73, 16)       0         \n",
      " gePooling2D)                                                    \n",
      "                                                                 \n",
      " conv2d_34 (Conv2D)          (None, 71, 71, 32)        4640      \n",
      "                                                                 \n",
      " batch_normalization_34 (Bat  (None, 71, 71, 32)       128       \n",
      " chNormalization)                                                \n",
      "                                                                 \n",
      " conv2d_35 (Conv2D)          (None, 69, 69, 32)        9248      \n",
      "                                                                 \n",
      " batch_normalization_35 (Bat  (None, 69, 69, 32)       128       \n",
      " chNormalization)                                                \n",
      "                                                                 \n",
      " global_average_pooling2d_1   (None, 32)               0         \n",
      " (GlobalAveragePooling2D)                                        \n",
      "                                                                 \n",
      " dense_18 (Dense)            (None, 250)               8250      \n",
      "                                                                 \n",
      "=================================================================\n",
      "Total params: 23,882\n",
      "Trainable params: 23,706\n",
      "Non-trainable params: 176\n",
      "_________________________________________________________________\n"
     ]
    }
   ],
   "source": [
    "#now the layers\n",
    "#I'm gonna make the CNN first\n",
    "cnnModel = keras.models.Sequential()\n",
    "cnnModel.add(layers.InputLayer(input_shape=(300, 300, 3)))\n",
    "cnnModel.add(layers.Conv2D(8, (3, 3), padding=\"valid\", activation=\"relu\"))\n",
    "cnnModel.add(layers.BatchNormalization())\n",
    "cnnModel.add(layers.AvgPool2D(pool_size=(2, 2), strides=2))\n",
    "cnnModel.add(layers.Conv2D(16, (3, 3), padding=\"valid\", activation=\"relu\"))\n",
    "cnnModel.add(layers.BatchNormalization())\n",
    "cnnModel.add(layers.AvgPool2D(pool_size=(2, 2), strides=2))\n",
    "cnnModel.add(layers.Conv2D(32, (3, 3), padding=\"valid\", activation=\"relu\"))\n",
    "cnnModel.add(layers.BatchNormalization())\n",
    "cnnModel.add(layers.Conv2D(32, (3, 3), padding=\"valid\", activation=\"relu\"))\n",
    "cnnModel.add(layers.BatchNormalization())\n",
    "#cnnModel.add(layers.Flatten())\n",
    "cnnModel.add(layers.GlobalAveragePooling2D())\n",
    "cnnModel.add(layers.Dense(250, activation=\"relu\"))\n",
    "\n",
    "cnnModel.summary()\n"
   ]
  },
  {
   "cell_type": "code",
   "execution_count": 367,
   "id": "882a80f4-2e79-48a0-9357-a424ef50bcf7",
   "metadata": {
    "tags": []
   },
   "outputs": [
    {
     "name": "stdout",
     "output_type": "stream",
     "text": [
      "Model: \"sequential_33\"\n",
      "_________________________________________________________________\n",
      " Layer (type)                Output Shape              Param #   \n",
      "=================================================================\n",
      " reshape_13 (Reshape)        (None, 250, 1)            0         \n",
      "                                                                 \n",
      " masking_5 (Masking)         (None, 250, 1)            0         \n",
      "                                                                 \n",
      " lstm_12 (LSTM)              (None, 250, 128)          66560     \n",
      "                                                                 \n",
      " time_distributed_5 (TimeDis  (None, 250, 95)          12255     \n",
      " tributed)                                                       \n",
      "                                                                 \n",
      "=================================================================\n",
      "Total params: 78,815\n",
      "Trainable params: 78,815\n",
      "Non-trainable params: 0\n",
      "_________________________________________________________________\n"
     ]
    }
   ],
   "source": [
    "#now the RNN\n",
    "rnnModel = keras.models.Sequential()\n",
    "rnnModel.add(layers.InputLayer(input_shape=(250,)))\n",
    "rnnModel.add(layers.Reshape((250, 1)))\n",
    "rnnModel.add(layers.Masking(mask_value=0)) #we gotta add this bc we don't want to confuse the padding with the data, so al 0's are just the pad\n",
    "rnnModel.add(layers.LSTM(128, return_sequences=True))\n",
    "rnnModel.add(layers.TimeDistributed(layers.Dense(95, activation=\"softmax\"))) #93 bc thats how many ascii codes i'm expecting\n",
    "#going from ascii space (32) to ascii ~ (126), but also have to include padding which is 0\n",
    "#careful with this part, I modified the labels so they are -31\n",
    "#so ascii range went 32 - 126 to 1 - 95\n",
    "# 0 is pad, so range is 0 - 95\n",
    "\n",
    "rnnModel.summary()"
   ]
  },
  {
   "cell_type": "code",
   "execution_count": 368,
   "id": "7503f56f-516f-4556-aa01-112eec947bc3",
   "metadata": {
    "tags": []
   },
   "outputs": [],
   "source": [
    "#now combine the models\n",
    "model = keras.models.Sequential()\n",
    "model.add(cnnModel)\n",
    "model.add(rnnModel)"
   ]
  },
  {
   "cell_type": "code",
   "execution_count": 369,
   "id": "bb5af3e3-4252-4738-9410-99f4919390a5",
   "metadata": {
    "tags": []
   },
   "outputs": [
    {
     "name": "stdout",
     "output_type": "stream",
     "text": [
      "Model: \"sequential_34\"\n",
      "_________________________________________________________________\n",
      " Layer (type)                Output Shape              Param #   \n",
      "=================================================================\n",
      " sequential_32 (Sequential)  (None, 250)               23882     \n",
      "                                                                 \n",
      " sequential_33 (Sequential)  (None, 250, 95)           78815     \n",
      "                                                                 \n",
      "=================================================================\n",
      "Total params: 102,697\n",
      "Trainable params: 102,521\n",
      "Non-trainable params: 176\n",
      "_________________________________________________________________\n"
     ]
    }
   ],
   "source": [
    "from tensorflow.keras.metrics import MeanSquaredError, CategoricalAccuracy\n",
    "# the shape is (32, 300, 300, 3) (taken from above)\n",
    "model.build(input_shape=(32, 300, 300, 3))\n",
    "model.compile(loss='sparse_categorical_crossentropy', optimizer='adam', metrics=['accuracy', CategoricalAccuracy()])\n",
    "model.summary()"
   ]
  },
  {
   "cell_type": "code",
   "execution_count": 370,
   "id": "9cf516ad-6cea-40b9-a8bb-277ef0b69a3a",
   "metadata": {
    "tags": []
   },
   "outputs": [
    {
     "name": "stdout",
     "output_type": "stream",
     "text": [
      "Epoch 1/20\n"
     ]
    },
    {
     "ename": "InvalidArgumentError",
     "evalue": "Graph execution error:\n\nDetected at node 'Equal_1' defined at (most recent call last):\n    File \"<frozen runpy>\", line 198, in _run_module_as_main\n    File \"<frozen runpy>\", line 88, in _run_code\n    File \"/Applications/anaconda/anaconda3/lib/python3.11/site-packages/ipykernel_launcher.py\", line 17, in <module>\n      app.launch_new_instance()\n    File \"/Applications/anaconda/anaconda3/lib/python3.11/site-packages/traitlets/config/application.py\", line 992, in launch_instance\n      app.start()\n    File \"/Applications/anaconda/anaconda3/lib/python3.11/site-packages/ipykernel/kernelapp.py\", line 711, in start\n      self.io_loop.start()\n    File \"/Applications/anaconda/anaconda3/lib/python3.11/site-packages/tornado/platform/asyncio.py\", line 195, in start\n      self.asyncio_loop.run_forever()\n    File \"/Applications/anaconda/anaconda3/lib/python3.11/asyncio/base_events.py\", line 607, in run_forever\n      self._run_once()\n    File \"/Applications/anaconda/anaconda3/lib/python3.11/asyncio/base_events.py\", line 1922, in _run_once\n      handle._run()\n    File \"/Applications/anaconda/anaconda3/lib/python3.11/asyncio/events.py\", line 80, in _run\n      self._context.run(self._callback, *self._args)\n    File \"/Applications/anaconda/anaconda3/lib/python3.11/site-packages/ipykernel/kernelbase.py\", line 510, in dispatch_queue\n      await self.process_one()\n    File \"/Applications/anaconda/anaconda3/lib/python3.11/site-packages/ipykernel/kernelbase.py\", line 499, in process_one\n      await dispatch(*args)\n    File \"/Applications/anaconda/anaconda3/lib/python3.11/site-packages/ipykernel/kernelbase.py\", line 406, in dispatch_shell\n      await result\n    File \"/Applications/anaconda/anaconda3/lib/python3.11/site-packages/ipykernel/kernelbase.py\", line 729, in execute_request\n      reply_content = await reply_content\n    File \"/Applications/anaconda/anaconda3/lib/python3.11/site-packages/ipykernel/ipkernel.py\", line 411, in do_execute\n      res = shell.run_cell(\n    File \"/Applications/anaconda/anaconda3/lib/python3.11/site-packages/ipykernel/zmqshell.py\", line 531, in run_cell\n      return super().run_cell(*args, **kwargs)\n    File \"/Applications/anaconda/anaconda3/lib/python3.11/site-packages/IPython/core/interactiveshell.py\", line 3006, in run_cell\n      result = self._run_cell(\n    File \"/Applications/anaconda/anaconda3/lib/python3.11/site-packages/IPython/core/interactiveshell.py\", line 3061, in _run_cell\n      result = runner(coro)\n    File \"/Applications/anaconda/anaconda3/lib/python3.11/site-packages/IPython/core/async_helpers.py\", line 129, in _pseudo_sync_runner\n      coro.send(None)\n    File \"/Applications/anaconda/anaconda3/lib/python3.11/site-packages/IPython/core/interactiveshell.py\", line 3266, in run_cell_async\n      has_raised = await self.run_ast_nodes(code_ast.body, cell_name,\n    File \"/Applications/anaconda/anaconda3/lib/python3.11/site-packages/IPython/core/interactiveshell.py\", line 3445, in run_ast_nodes\n      if await self.run_code(code, result, async_=asy):\n    File \"/Applications/anaconda/anaconda3/lib/python3.11/site-packages/IPython/core/interactiveshell.py\", line 3505, in run_code\n      exec(code_obj, self.user_global_ns, self.user_ns)\n    File \"/var/folders/vq/0vtj01pd5yd4wh8k78wcwqn9fw3g_4/T/ipykernel_1082/2824182076.py\", line 7, in <module>\n      model.fit(\n    File \"/Applications/anaconda/anaconda3/lib/python3.11/site-packages/keras/utils/traceback_utils.py\", line 65, in error_handler\n      return fn(*args, **kwargs)\n    File \"/Applications/anaconda/anaconda3/lib/python3.11/site-packages/keras/engine/training.py\", line 1685, in fit\n      tmp_logs = self.train_function(iterator)\n    File \"/Applications/anaconda/anaconda3/lib/python3.11/site-packages/keras/engine/training.py\", line 1284, in train_function\n      return step_function(self, iterator)\n    File \"/Applications/anaconda/anaconda3/lib/python3.11/site-packages/keras/engine/training.py\", line 1268, in step_function\n      outputs = model.distribute_strategy.run(run_step, args=(data,))\n    File \"/Applications/anaconda/anaconda3/lib/python3.11/site-packages/keras/engine/training.py\", line 1249, in run_step\n      outputs = model.train_step(data)\n    File \"/Applications/anaconda/anaconda3/lib/python3.11/site-packages/keras/engine/training.py\", line 1055, in train_step\n      return self.compute_metrics(x, y, y_pred, sample_weight)\n    File \"/Applications/anaconda/anaconda3/lib/python3.11/site-packages/keras/engine/training.py\", line 1149, in compute_metrics\n      self.compiled_metrics.update_state(y, y_pred, sample_weight)\n    File \"/Applications/anaconda/anaconda3/lib/python3.11/site-packages/keras/engine/compile_utils.py\", line 605, in update_state\n      metric_obj.update_state(y_t, y_p, sample_weight=mask)\n    File \"/Applications/anaconda/anaconda3/lib/python3.11/site-packages/keras/utils/metrics_utils.py\", line 77, in decorated\n      update_op = update_state_fn(*args, **kwargs)\n    File \"/Applications/anaconda/anaconda3/lib/python3.11/site-packages/keras/metrics/base_metric.py\", line 140, in update_state_fn\n      return ag_update_state(*args, **kwargs)\n    File \"/Applications/anaconda/anaconda3/lib/python3.11/site-packages/keras/metrics/base_metric.py\", line 691, in update_state\n      matches = ag_fn(y_true, y_pred, **self._fn_kwargs)\n    File \"/Applications/anaconda/anaconda3/lib/python3.11/site-packages/keras/metrics/accuracy_metrics.py\", line 169, in <lambda>\n      lambda y_true, y_pred: metrics_utils.sparse_categorical_matches(\n    File \"/Applications/anaconda/anaconda3/lib/python3.11/site-packages/keras/utils/metrics_utils.py\", line 971, in sparse_categorical_matches\n      matches = tf.cast(tf.equal(y_true, y_pred), backend.floatx())\nNode: 'Equal_1'\nIncompatible shapes: [32] vs. [32,250]\n\t [[{{node Equal_1}}]] [Op:__inference_train_function_6419614]",
     "output_type": "error",
     "traceback": [
      "\u001b[0;31m---------------------------------------------------------------------------\u001b[0m",
      "\u001b[0;31mInvalidArgumentError\u001b[0m                      Traceback (most recent call last)",
      "Cell \u001b[0;32mIn[370], line 7\u001b[0m\n\u001b[1;32m      3\u001b[0m \u001b[38;5;28;01mfrom\u001b[39;00m \u001b[38;5;21;01mtensorflow\u001b[39;00m\u001b[38;5;21;01m.\u001b[39;00m\u001b[38;5;21;01mkeras\u001b[39;00m\u001b[38;5;21;01m.\u001b[39;00m\u001b[38;5;21;01mcallbacks\u001b[39;00m \u001b[38;5;28;01mimport\u001b[39;00m EarlyStopping \u001b[38;5;66;03m#chatGPT recommends bc I got terrible loss and accuracy\u001b[39;00m\n\u001b[1;32m      4\u001b[0m early_stopping \u001b[38;5;241m=\u001b[39m EarlyStopping(monitor\u001b[38;5;241m=\u001b[39m\u001b[38;5;124m'\u001b[39m\u001b[38;5;124mval_loss\u001b[39m\u001b[38;5;124m'\u001b[39m, patience\u001b[38;5;241m=\u001b[39m\u001b[38;5;241m5\u001b[39m, restore_best_weights\u001b[38;5;241m=\u001b[39m\u001b[38;5;28;01mTrue\u001b[39;00m)\n\u001b[0;32m----> 7\u001b[0m model\u001b[38;5;241m.\u001b[39mfit(\n\u001b[1;32m      8\u001b[0m         trainGen,\n\u001b[1;32m      9\u001b[0m         steps_per_epoch\u001b[38;5;241m=\u001b[39m \u001b[38;5;241m32\u001b[39m, \u001b[38;5;66;03m#batch size\u001b[39;00m\n\u001b[1;32m     10\u001b[0m         epochs\u001b[38;5;241m=\u001b[39m\u001b[38;5;241m20\u001b[39m,\n\u001b[1;32m     11\u001b[0m         validation_data\u001b[38;5;241m=\u001b[39mtestGen,\n\u001b[1;32m     12\u001b[0m         validation_steps\u001b[38;5;241m=\u001b[39m \u001b[38;5;241m32\u001b[39m, \u001b[38;5;66;03m#batch size\u001b[39;00m\n\u001b[1;32m     13\u001b[0m         callbacks\u001b[38;5;241m=\u001b[39m [early_stopping])\n",
      "File \u001b[0;32m/Applications/anaconda/anaconda3/lib/python3.11/site-packages/keras/utils/traceback_utils.py:70\u001b[0m, in \u001b[0;36mfilter_traceback.<locals>.error_handler\u001b[0;34m(*args, **kwargs)\u001b[0m\n\u001b[1;32m     67\u001b[0m     filtered_tb \u001b[38;5;241m=\u001b[39m _process_traceback_frames(e\u001b[38;5;241m.\u001b[39m__traceback__)\n\u001b[1;32m     68\u001b[0m     \u001b[38;5;66;03m# To get the full stack trace, call:\u001b[39;00m\n\u001b[1;32m     69\u001b[0m     \u001b[38;5;66;03m# `tf.debugging.disable_traceback_filtering()`\u001b[39;00m\n\u001b[0;32m---> 70\u001b[0m     \u001b[38;5;28;01mraise\u001b[39;00m e\u001b[38;5;241m.\u001b[39mwith_traceback(filtered_tb) \u001b[38;5;28;01mfrom\u001b[39;00m \u001b[38;5;28;01mNone\u001b[39;00m\n\u001b[1;32m     71\u001b[0m \u001b[38;5;28;01mfinally\u001b[39;00m:\n\u001b[1;32m     72\u001b[0m     \u001b[38;5;28;01mdel\u001b[39;00m filtered_tb\n",
      "File \u001b[0;32m/Applications/anaconda/anaconda3/lib/python3.11/site-packages/tensorflow/python/eager/execute.py:52\u001b[0m, in \u001b[0;36mquick_execute\u001b[0;34m(op_name, num_outputs, inputs, attrs, ctx, name)\u001b[0m\n\u001b[1;32m     50\u001b[0m \u001b[38;5;28;01mtry\u001b[39;00m:\n\u001b[1;32m     51\u001b[0m   ctx\u001b[38;5;241m.\u001b[39mensure_initialized()\n\u001b[0;32m---> 52\u001b[0m   tensors \u001b[38;5;241m=\u001b[39m pywrap_tfe\u001b[38;5;241m.\u001b[39mTFE_Py_Execute(ctx\u001b[38;5;241m.\u001b[39m_handle, device_name, op_name,\n\u001b[1;32m     53\u001b[0m                                       inputs, attrs, num_outputs)\n\u001b[1;32m     54\u001b[0m \u001b[38;5;28;01mexcept\u001b[39;00m core\u001b[38;5;241m.\u001b[39m_NotOkStatusException \u001b[38;5;28;01mas\u001b[39;00m e:\n\u001b[1;32m     55\u001b[0m   \u001b[38;5;28;01mif\u001b[39;00m name \u001b[38;5;129;01mis\u001b[39;00m \u001b[38;5;129;01mnot\u001b[39;00m \u001b[38;5;28;01mNone\u001b[39;00m:\n",
      "\u001b[0;31mInvalidArgumentError\u001b[0m: Graph execution error:\n\nDetected at node 'Equal_1' defined at (most recent call last):\n    File \"<frozen runpy>\", line 198, in _run_module_as_main\n    File \"<frozen runpy>\", line 88, in _run_code\n    File \"/Applications/anaconda/anaconda3/lib/python3.11/site-packages/ipykernel_launcher.py\", line 17, in <module>\n      app.launch_new_instance()\n    File \"/Applications/anaconda/anaconda3/lib/python3.11/site-packages/traitlets/config/application.py\", line 992, in launch_instance\n      app.start()\n    File \"/Applications/anaconda/anaconda3/lib/python3.11/site-packages/ipykernel/kernelapp.py\", line 711, in start\n      self.io_loop.start()\n    File \"/Applications/anaconda/anaconda3/lib/python3.11/site-packages/tornado/platform/asyncio.py\", line 195, in start\n      self.asyncio_loop.run_forever()\n    File \"/Applications/anaconda/anaconda3/lib/python3.11/asyncio/base_events.py\", line 607, in run_forever\n      self._run_once()\n    File \"/Applications/anaconda/anaconda3/lib/python3.11/asyncio/base_events.py\", line 1922, in _run_once\n      handle._run()\n    File \"/Applications/anaconda/anaconda3/lib/python3.11/asyncio/events.py\", line 80, in _run\n      self._context.run(self._callback, *self._args)\n    File \"/Applications/anaconda/anaconda3/lib/python3.11/site-packages/ipykernel/kernelbase.py\", line 510, in dispatch_queue\n      await self.process_one()\n    File \"/Applications/anaconda/anaconda3/lib/python3.11/site-packages/ipykernel/kernelbase.py\", line 499, in process_one\n      await dispatch(*args)\n    File \"/Applications/anaconda/anaconda3/lib/python3.11/site-packages/ipykernel/kernelbase.py\", line 406, in dispatch_shell\n      await result\n    File \"/Applications/anaconda/anaconda3/lib/python3.11/site-packages/ipykernel/kernelbase.py\", line 729, in execute_request\n      reply_content = await reply_content\n    File \"/Applications/anaconda/anaconda3/lib/python3.11/site-packages/ipykernel/ipkernel.py\", line 411, in do_execute\n      res = shell.run_cell(\n    File \"/Applications/anaconda/anaconda3/lib/python3.11/site-packages/ipykernel/zmqshell.py\", line 531, in run_cell\n      return super().run_cell(*args, **kwargs)\n    File \"/Applications/anaconda/anaconda3/lib/python3.11/site-packages/IPython/core/interactiveshell.py\", line 3006, in run_cell\n      result = self._run_cell(\n    File \"/Applications/anaconda/anaconda3/lib/python3.11/site-packages/IPython/core/interactiveshell.py\", line 3061, in _run_cell\n      result = runner(coro)\n    File \"/Applications/anaconda/anaconda3/lib/python3.11/site-packages/IPython/core/async_helpers.py\", line 129, in _pseudo_sync_runner\n      coro.send(None)\n    File \"/Applications/anaconda/anaconda3/lib/python3.11/site-packages/IPython/core/interactiveshell.py\", line 3266, in run_cell_async\n      has_raised = await self.run_ast_nodes(code_ast.body, cell_name,\n    File \"/Applications/anaconda/anaconda3/lib/python3.11/site-packages/IPython/core/interactiveshell.py\", line 3445, in run_ast_nodes\n      if await self.run_code(code, result, async_=asy):\n    File \"/Applications/anaconda/anaconda3/lib/python3.11/site-packages/IPython/core/interactiveshell.py\", line 3505, in run_code\n      exec(code_obj, self.user_global_ns, self.user_ns)\n    File \"/var/folders/vq/0vtj01pd5yd4wh8k78wcwqn9fw3g_4/T/ipykernel_1082/2824182076.py\", line 7, in <module>\n      model.fit(\n    File \"/Applications/anaconda/anaconda3/lib/python3.11/site-packages/keras/utils/traceback_utils.py\", line 65, in error_handler\n      return fn(*args, **kwargs)\n    File \"/Applications/anaconda/anaconda3/lib/python3.11/site-packages/keras/engine/training.py\", line 1685, in fit\n      tmp_logs = self.train_function(iterator)\n    File \"/Applications/anaconda/anaconda3/lib/python3.11/site-packages/keras/engine/training.py\", line 1284, in train_function\n      return step_function(self, iterator)\n    File \"/Applications/anaconda/anaconda3/lib/python3.11/site-packages/keras/engine/training.py\", line 1268, in step_function\n      outputs = model.distribute_strategy.run(run_step, args=(data,))\n    File \"/Applications/anaconda/anaconda3/lib/python3.11/site-packages/keras/engine/training.py\", line 1249, in run_step\n      outputs = model.train_step(data)\n    File \"/Applications/anaconda/anaconda3/lib/python3.11/site-packages/keras/engine/training.py\", line 1055, in train_step\n      return self.compute_metrics(x, y, y_pred, sample_weight)\n    File \"/Applications/anaconda/anaconda3/lib/python3.11/site-packages/keras/engine/training.py\", line 1149, in compute_metrics\n      self.compiled_metrics.update_state(y, y_pred, sample_weight)\n    File \"/Applications/anaconda/anaconda3/lib/python3.11/site-packages/keras/engine/compile_utils.py\", line 605, in update_state\n      metric_obj.update_state(y_t, y_p, sample_weight=mask)\n    File \"/Applications/anaconda/anaconda3/lib/python3.11/site-packages/keras/utils/metrics_utils.py\", line 77, in decorated\n      update_op = update_state_fn(*args, **kwargs)\n    File \"/Applications/anaconda/anaconda3/lib/python3.11/site-packages/keras/metrics/base_metric.py\", line 140, in update_state_fn\n      return ag_update_state(*args, **kwargs)\n    File \"/Applications/anaconda/anaconda3/lib/python3.11/site-packages/keras/metrics/base_metric.py\", line 691, in update_state\n      matches = ag_fn(y_true, y_pred, **self._fn_kwargs)\n    File \"/Applications/anaconda/anaconda3/lib/python3.11/site-packages/keras/metrics/accuracy_metrics.py\", line 169, in <lambda>\n      lambda y_true, y_pred: metrics_utils.sparse_categorical_matches(\n    File \"/Applications/anaconda/anaconda3/lib/python3.11/site-packages/keras/utils/metrics_utils.py\", line 971, in sparse_categorical_matches\n      matches = tf.cast(tf.equal(y_true, y_pred), backend.floatx())\nNode: 'Equal_1'\nIncompatible shapes: [32] vs. [32,250]\n\t [[{{node Equal_1}}]] [Op:__inference_train_function_6419614]"
     ]
    }
   ],
   "source": [
    "#numbTrainSample = \n",
    "#def nextTrainBatch:\n",
    "from tensorflow.keras.callbacks import EarlyStopping #chatGPT recommends bc I got terrible loss and accuracy\n",
    "early_stopping = EarlyStopping(monitor='val_loss', patience=5, restore_best_weights=True)\n",
    "\n",
    "\n",
    "model.fit(\n",
    "        trainGen,\n",
    "        steps_per_epoch= 32, #batch size\n",
    "        epochs=20,\n",
    "        validation_data=testGen,\n",
    "        validation_steps= 32, #batch size\n",
    "        callbacks= [early_stopping]) "
   ]
  }
 ],
 "metadata": {
  "kernelspec": {
   "display_name": "Python 3 (ipykernel)",
   "language": "python",
   "name": "python3"
  },
  "language_info": {
   "codemirror_mode": {
    "name": "ipython",
    "version": 3
   },
   "file_extension": ".py",
   "mimetype": "text/x-python",
   "name": "python",
   "nbconvert_exporter": "python",
   "pygments_lexer": "ipython3",
   "version": "3.11.4"
  }
 },
 "nbformat": 4,
 "nbformat_minor": 5
}
